{
 "cells": [
  {
   "cell_type": "code",
   "execution_count": null,
   "metadata": {},
   "outputs": [],
   "source": [
    "class Shopping_Cart:    \n",
    "    def __init__(self, item_name, price, quantity):\n",
    "        self.item_name = input(\"What would you like to order? \")\n",
    "        self.price = input(f\"How much does this {self.item_name} cost? \")\n",
    "        self.quantity = input(f\"How many of {self.item_name} would you like to add to your cart?\")\n",
    "        \n",
    "    def get_whole_obj():\n",
    "        pass\n",
    "        \n",
    "    def run():\n",
    "        done = False\n",
    "        while not done:\n",
    "            print(\"\"\"\n",
    "Welcome to McDonalds!\n",
    "Type order if you are ready to add items to your cart!\n",
    "Type remove if you want to remove an item from your cart!\n",
    "Type quit to exit the program!\n",
    "\"\"\")\n",
    "            done_ordering = False\n",
    "            while not done_ordering:\n",
    "                cart = []\n",
    "                total = 0\n",
    "                current = input(\"What would you Like to do? (order, remove, quit)\")\n",
    "                if current == \"order\":\n",
    "                    while True:\n",
    "                        cart.append(Shopping_Cart(\"a\", \"1\", \"b\"))\n",
    "                        again = input(\"Would you like to continue shopping, return to previous menu, or pay for your items?(continue, return, pay, quit)\")\n",
    "                        if again == \"pay\" or again == \"return\":\n",
    "                            print(\"Your cart:\")\n",
    "                            for _ in cart:\n",
    "                                total += (float(_.price) * float(_.quantity))\n",
    "                                print(_.__dict__)\n",
    "                            print(total)\n",
    "                            break\n",
    "                elif current == \"remove\":\n",
    "                    remove = input(\"What item(s) would you like to remove from your cart?\")\n",
    "                    #need to figure out a way to delete objects from a list\n",
    "                    break\n",
    "                elif current == \"quit\":\n",
    "                    confirm = input(\"Are you sure? This will empty your cart and end the program (y/n)\")\n",
    "                    if confirm == \"y\":\n",
    "                        done_ordering = True\n",
    "            done = True\n"
   ]
  }
 ],
 "metadata": {
  "kernelspec": {
   "display_name": "Python 3",
   "language": "python",
   "name": "python3"
  },
  "language_info": {
   "codemirror_mode": {
    "name": "ipython",
    "version": 3
   },
   "file_extension": ".py",
   "mimetype": "text/x-python",
   "name": "python",
   "nbconvert_exporter": "python",
   "pygments_lexer": "ipython3",
   "version": "3.8.3"
  }
 },
 "nbformat": 4,
 "nbformat_minor": 4
}
